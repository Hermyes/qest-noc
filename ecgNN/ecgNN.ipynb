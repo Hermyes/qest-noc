{
 "cells": [
  {
   "cell_type": "markdown",
   "id": "fc34e071",
   "metadata": {},
   "source": [
    "# **Постановка задачи и данные**\n",
    "\n",
    "Цель задачи — **бинарная классификация**: определить, является ли человек **здоровым** по результатам ЭКГ.  \n",
    "Целевая переменная — **Healthy**:  \n",
    "- `1` — здоров  \n",
    "- `0` — потенциально аномальный\n",
    "\n",
    "## **Данные**\n",
    "\n",
    "Входной датасет — табличные данные с признаками, извлечёнными из сигналов ЭКГ. В него входят:\n",
    "\n",
    "- `rr_interval` — RR интервал (мс)\n",
    "- `p_onset` — начало P-волны (мс)\n",
    "- `p_end` — конец P-волны (мс)\n",
    "- `qrs_onset` — начало QRS-комплекса (мс)\n",
    "- `qrs_end` — конец QRS-комплекса (мс)\n",
    "- `t_end` — конец T-волны (мс)\n",
    "- `p_axis` — ось P (°)\n",
    "- `qrs_axis` — ось QRS (°)\n",
    "- `t_axis` — ось T (°)\n",
    "- `Healthy` — целевая переменная (0 или 1)"
   ]
  },
  {
   "cell_type": "code",
   "execution_count": 11,
   "id": "1a894660",
   "metadata": {},
   "outputs": [],
   "source": [
    "import torch\n",
    "import torch.nn as nn\n",
    "import torch.optim as optim\n",
    "from torch.utils.data import Dataset, DataLoader, TensorDataset\n",
    "import torch.nn.functional as F\n",
    "from tqdm import tqdm\n",
    "\n",
    "from sklearn.metrics import accuracy_score, f1_score\n",
    "from sklearn.preprocessing import StandardScaler\n",
    "from sklearn.model_selection import train_test_split\n",
    "\n",
    "import numpy as np\n",
    "import pandas as pd"
   ]
  },
  {
   "cell_type": "markdown",
   "id": "56996baf",
   "metadata": {},
   "source": [
    "# **Загрузка и обработка данных**"
   ]
  },
  {
   "cell_type": "code",
   "execution_count": 2,
   "id": "0e61f5c1",
   "metadata": {},
   "outputs": [],
   "source": [
    "df = pd.read_csv(\"ecg_data.csv\")\n",
    "\n",
    "df.replace(29990, np.nan, inplace=True)\n",
    "\n",
    "df = df.fillna(df.median(numeric_only=True))\n",
    "\n",
    "X = df.drop(columns=[\"Healthy\"]).values\n",
    "y = df[\"Healthy\"].values.reshape(-1, 1)\n",
    "\n",
    "scaler = StandardScaler()\n",
    "X_scaled = scaler.fit_transform(X)\n",
    "\n",
    "X_train, X_test, y_train, y_test = train_test_split(\n",
    "    X_scaled, y, test_size=0.2, random_state=42, stratify=y\n",
    ")\n",
    "\n",
    "X_train_tensor = torch.tensor(X_train, dtype=torch.float32)\n",
    "y_train_tensor = torch.tensor(y_train, dtype=torch.float32)\n",
    "\n",
    "X_test_tensor = torch.tensor(X_test, dtype=torch.float32)\n",
    "y_test_tensor = torch.tensor(y_test, dtype=torch.float32)\n",
    "\n",
    "train_dataset = TensorDataset(X_train_tensor, y_train_tensor)\n",
    "test_dataset = TensorDataset(X_test_tensor, y_test_tensor)\n",
    "\n",
    "train_loader = DataLoader(train_dataset, batch_size=32, shuffle=True)\n",
    "test_loader = DataLoader(test_dataset, batch_size=64, shuffle=False)"
   ]
  },
  {
   "cell_type": "markdown",
   "id": "5d27d6a1",
   "metadata": {},
   "source": [
    "# **Архитектура нейронной сети**"
   ]
  },
  {
   "cell_type": "code",
   "execution_count": 8,
   "id": "333d0228",
   "metadata": {},
   "outputs": [],
   "source": [
    "model = nn.Sequential(\n",
    "    nn.Linear(X_train.shape[1], 64),\n",
    "    nn.ReLU(),\n",
    "    nn.Dropout(0.3),\n",
    "    nn.Linear(64, 1) \n",
    ")\n",
    "\n",
    "optimizer = torch.optim.Adam(model.parameters(), lr=0.001)"
   ]
  },
  {
   "cell_type": "code",
   "execution_count": 9,
   "id": "6229ae18",
   "metadata": {},
   "outputs": [],
   "source": [
    "def train(model, optimizer, train_loader, val_loader, n_epochs=10):\n",
    "    for epoch in range(n_epochs):\n",
    "        model.train()\n",
    "        total_loss = 0\n",
    "\n",
    "        for x_batch, y_batch in tqdm(train_loader):\n",
    "            y_pred = model(x_batch).squeeze(1)\n",
    "            loss = F.binary_cross_entropy_with_logits(y_pred, y_batch.squeeze())\n",
    "            loss.backward()\n",
    "            optimizer.step()\n",
    "            optimizer.zero_grad()\n",
    "            total_loss += loss.item()\n",
    "\n",
    "        print(f\"[{epoch+1}] Train Loss: {total_loss / len(train_loader):.4f}\")\n",
    "\n",
    "        # Валидация\n",
    "        if (epoch + 1) % 2 == 0:\n",
    "            model.eval()\n",
    "            val_loss = []\n",
    "            val_preds = []\n",
    "            val_trues = []\n",
    "            with torch.no_grad():\n",
    "                for x_val, y_val in val_loader:\n",
    "                    y_pred = model(x_val).squeeze(1)\n",
    "                    loss = F.binary_cross_entropy_with_logits(y_pred, y_val.squeeze())\n",
    "                    val_loss.append(loss.item())\n",
    "                    probs = torch.sigmoid(y_pred)\n",
    "                    preds = (probs >= 0.5).int()\n",
    "                    val_preds.extend(preds.cpu().numpy())\n",
    "                    val_trues.extend(y_val.cpu().numpy())\n",
    "\n",
    "            acc = accuracy_score(val_trues, val_preds)\n",
    "            f1 = f1_score(val_trues, val_preds)\n",
    "            print(f\"    Val Loss: {np.mean(val_loss):.4f}, Accuracy: {acc:.4f}, F1: {f1:.4f}\")"
   ]
  },
  {
   "cell_type": "code",
   "execution_count": 12,
   "id": "ad670cf4",
   "metadata": {},
   "outputs": [
    {
     "name": "stderr",
     "output_type": "stream",
     "text": [
      "100%|██████████| 8/8 [00:00<00:00, 500.45it/s]\n"
     ]
    },
    {
     "name": "stdout",
     "output_type": "stream",
     "text": [
      "[1] Train Loss: 0.6990\n"
     ]
    },
    {
     "name": "stderr",
     "output_type": "stream",
     "text": [
      "100%|██████████| 8/8 [00:00<00:00, 595.94it/s]\n"
     ]
    },
    {
     "name": "stdout",
     "output_type": "stream",
     "text": [
      "[2] Train Loss: 0.6438\n",
      "    Val Loss: 0.6373, Accuracy: 0.7833, F1: 0.8785\n"
     ]
    },
    {
     "name": "stderr",
     "output_type": "stream",
     "text": [
      "100%|██████████| 8/8 [00:00<00:00, 784.62it/s]\n"
     ]
    },
    {
     "name": "stdout",
     "output_type": "stream",
     "text": [
      "[3] Train Loss: 0.6213\n"
     ]
    },
    {
     "name": "stderr",
     "output_type": "stream",
     "text": [
      "100%|██████████| 8/8 [00:00<00:00, 725.97it/s]\n"
     ]
    },
    {
     "name": "stdout",
     "output_type": "stream",
     "text": [
      "[4] Train Loss: 0.5928\n",
      "    Val Loss: 0.5857, Accuracy: 0.8000, F1: 0.8889\n"
     ]
    },
    {
     "name": "stderr",
     "output_type": "stream",
     "text": [
      "100%|██████████| 8/8 [00:00<00:00, 731.94it/s]\n"
     ]
    },
    {
     "name": "stdout",
     "output_type": "stream",
     "text": [
      "[5] Train Loss: 0.5720\n"
     ]
    },
    {
     "name": "stderr",
     "output_type": "stream",
     "text": [
      "100%|██████████| 8/8 [00:00<00:00, 514.13it/s]\n"
     ]
    },
    {
     "name": "stdout",
     "output_type": "stream",
     "text": [
      "[6] Train Loss: 0.5494\n",
      "    Val Loss: 0.5460, Accuracy: 0.8000, F1: 0.8889\n"
     ]
    },
    {
     "name": "stderr",
     "output_type": "stream",
     "text": [
      "100%|██████████| 8/8 [00:00<00:00, 638.56it/s]\n"
     ]
    },
    {
     "name": "stdout",
     "output_type": "stream",
     "text": [
      "[7] Train Loss: 0.5352\n"
     ]
    },
    {
     "name": "stderr",
     "output_type": "stream",
     "text": [
      "100%|██████████| 8/8 [00:00<00:00, 533.65it/s]\n"
     ]
    },
    {
     "name": "stdout",
     "output_type": "stream",
     "text": [
      "[8] Train Loss: 0.5215\n",
      "    Val Loss: 0.5162, Accuracy: 0.8000, F1: 0.8889\n"
     ]
    },
    {
     "name": "stderr",
     "output_type": "stream",
     "text": [
      "100%|██████████| 8/8 [00:00<00:00, 796.54it/s]\n"
     ]
    },
    {
     "name": "stdout",
     "output_type": "stream",
     "text": [
      "[9] Train Loss: 0.5054\n"
     ]
    },
    {
     "name": "stderr",
     "output_type": "stream",
     "text": [
      "100%|██████████| 8/8 [00:00<00:00, 679.31it/s]"
     ]
    },
    {
     "name": "stdout",
     "output_type": "stream",
     "text": [
      "[10] Train Loss: 0.4873\n",
      "    Val Loss: 0.4952, Accuracy: 0.8000, F1: 0.8889\n"
     ]
    },
    {
     "name": "stderr",
     "output_type": "stream",
     "text": [
      "\n"
     ]
    }
   ],
   "source": [
    "train(model, optimizer, train_loader, test_loader, n_epochs=10)"
   ]
  },
  {
   "cell_type": "code",
   "execution_count": 15,
   "id": "7519f9ed",
   "metadata": {},
   "outputs": [
    {
     "data": {
      "text/html": [
       "<div>\n",
       "<style scoped>\n",
       "    .dataframe tbody tr th:only-of-type {\n",
       "        vertical-align: middle;\n",
       "    }\n",
       "\n",
       "    .dataframe tbody tr th {\n",
       "        vertical-align: top;\n",
       "    }\n",
       "\n",
       "    .dataframe thead th {\n",
       "        text-align: right;\n",
       "    }\n",
       "</style>\n",
       "<table border=\"1\" class=\"dataframe\">\n",
       "  <thead>\n",
       "    <tr style=\"text-align: right;\">\n",
       "      <th></th>\n",
       "      <th>Healthy</th>\n",
       "      <th>rr_interval</th>\n",
       "      <th>p_onset</th>\n",
       "      <th>p_end</th>\n",
       "      <th>qrs_onset</th>\n",
       "      <th>qrs_end</th>\n",
       "      <th>t_end</th>\n",
       "      <th>p_axis</th>\n",
       "      <th>qrs_axis</th>\n",
       "      <th>t_axis</th>\n",
       "    </tr>\n",
       "  </thead>\n",
       "  <tbody>\n",
       "    <tr>\n",
       "      <th>6</th>\n",
       "      <td>1</td>\n",
       "      <td>606</td>\n",
       "      <td>40</td>\n",
       "      <td>156</td>\n",
       "      <td>166</td>\n",
       "      <td>296</td>\n",
       "      <td>516</td>\n",
       "      <td>-6</td>\n",
       "      <td>110</td>\n",
       "      <td>-52</td>\n",
       "    </tr>\n",
       "    <tr>\n",
       "      <th>23</th>\n",
       "      <td>1</td>\n",
       "      <td>833</td>\n",
       "      <td>40</td>\n",
       "      <td>162</td>\n",
       "      <td>286</td>\n",
       "      <td>376</td>\n",
       "      <td>682</td>\n",
       "      <td>-23</td>\n",
       "      <td>9</td>\n",
       "      <td>23</td>\n",
       "    </tr>\n",
       "    <tr>\n",
       "      <th>49</th>\n",
       "      <td>1</td>\n",
       "      <td>706</td>\n",
       "      <td>337</td>\n",
       "      <td>29999</td>\n",
       "      <td>505</td>\n",
       "      <td>613</td>\n",
       "      <td>876</td>\n",
       "      <td>-2</td>\n",
       "      <td>-31</td>\n",
       "      <td>51</td>\n",
       "    </tr>\n",
       "    <tr>\n",
       "      <th>60</th>\n",
       "      <td>1</td>\n",
       "      <td>1016</td>\n",
       "      <td>40</td>\n",
       "      <td>162</td>\n",
       "      <td>290</td>\n",
       "      <td>404</td>\n",
       "      <td>754</td>\n",
       "      <td>-82</td>\n",
       "      <td>60</td>\n",
       "      <td>7</td>\n",
       "    </tr>\n",
       "    <tr>\n",
       "      <th>71</th>\n",
       "      <td>1</td>\n",
       "      <td>1111</td>\n",
       "      <td>333</td>\n",
       "      <td>29999</td>\n",
       "      <td>504</td>\n",
       "      <td>589</td>\n",
       "      <td>954</td>\n",
       "      <td>-5</td>\n",
       "      <td>21</td>\n",
       "      <td>-3</td>\n",
       "    </tr>\n",
       "    <tr>\n",
       "      <th>83</th>\n",
       "      <td>1</td>\n",
       "      <td>937</td>\n",
       "      <td>40</td>\n",
       "      <td>150</td>\n",
       "      <td>190</td>\n",
       "      <td>268</td>\n",
       "      <td>590</td>\n",
       "      <td>-21</td>\n",
       "      <td>20</td>\n",
       "      <td>68</td>\n",
       "    </tr>\n",
       "    <tr>\n",
       "      <th>132</th>\n",
       "      <td>1</td>\n",
       "      <td>937</td>\n",
       "      <td>40</td>\n",
       "      <td>172</td>\n",
       "      <td>236</td>\n",
       "      <td>334</td>\n",
       "      <td>678</td>\n",
       "      <td>-1</td>\n",
       "      <td>-2</td>\n",
       "      <td>3</td>\n",
       "    </tr>\n",
       "    <tr>\n",
       "      <th>135</th>\n",
       "      <td>1</td>\n",
       "      <td>952</td>\n",
       "      <td>40</td>\n",
       "      <td>138</td>\n",
       "      <td>206</td>\n",
       "      <td>296</td>\n",
       "      <td>600</td>\n",
       "      <td>-18</td>\n",
       "      <td>36</td>\n",
       "      <td>29</td>\n",
       "    </tr>\n",
       "    <tr>\n",
       "      <th>137</th>\n",
       "      <td>1</td>\n",
       "      <td>789</td>\n",
       "      <td>40</td>\n",
       "      <td>124</td>\n",
       "      <td>182</td>\n",
       "      <td>270</td>\n",
       "      <td>566</td>\n",
       "      <td>-8</td>\n",
       "      <td>-25</td>\n",
       "      <td>-172</td>\n",
       "    </tr>\n",
       "    <tr>\n",
       "      <th>176</th>\n",
       "      <td>1</td>\n",
       "      <td>1224</td>\n",
       "      <td>40</td>\n",
       "      <td>152</td>\n",
       "      <td>198</td>\n",
       "      <td>296</td>\n",
       "      <td>688</td>\n",
       "      <td>-21</td>\n",
       "      <td>-39</td>\n",
       "      <td>-16</td>\n",
       "    </tr>\n",
       "    <tr>\n",
       "      <th>238</th>\n",
       "      <td>1</td>\n",
       "      <td>909</td>\n",
       "      <td>351</td>\n",
       "      <td>29999</td>\n",
       "      <td>506</td>\n",
       "      <td>599</td>\n",
       "      <td>877</td>\n",
       "      <td>-12</td>\n",
       "      <td>3</td>\n",
       "      <td>51</td>\n",
       "    </tr>\n",
       "    <tr>\n",
       "      <th>248</th>\n",
       "      <td>1</td>\n",
       "      <td>705</td>\n",
       "      <td>40</td>\n",
       "      <td>122</td>\n",
       "      <td>168</td>\n",
       "      <td>262</td>\n",
       "      <td>520</td>\n",
       "      <td>-75</td>\n",
       "      <td>-67</td>\n",
       "      <td>105</td>\n",
       "    </tr>\n",
       "    <tr>\n",
       "      <th>273</th>\n",
       "      <td>0</td>\n",
       "      <td>1000</td>\n",
       "      <td>40</td>\n",
       "      <td>178</td>\n",
       "      <td>186</td>\n",
       "      <td>304</td>\n",
       "      <td>618</td>\n",
       "      <td>-13</td>\n",
       "      <td>-19</td>\n",
       "      <td>47</td>\n",
       "    </tr>\n",
       "  </tbody>\n",
       "</table>\n",
       "</div>"
      ],
      "text/plain": [
       "     Healthy  rr_interval  p_onset  p_end  qrs_onset  qrs_end  t_end  p_axis  \\\n",
       "6          1          606       40    156        166      296    516      -6   \n",
       "23         1          833       40    162        286      376    682     -23   \n",
       "49         1          706      337  29999        505      613    876      -2   \n",
       "60         1         1016       40    162        290      404    754     -82   \n",
       "71         1         1111      333  29999        504      589    954      -5   \n",
       "83         1          937       40    150        190      268    590     -21   \n",
       "132        1          937       40    172        236      334    678      -1   \n",
       "135        1          952       40    138        206      296    600     -18   \n",
       "137        1          789       40    124        182      270    566      -8   \n",
       "176        1         1224       40    152        198      296    688     -21   \n",
       "238        1          909      351  29999        506      599    877     -12   \n",
       "248        1          705       40    122        168      262    520     -75   \n",
       "273        0         1000       40    178        186      304    618     -13   \n",
       "\n",
       "     qrs_axis  t_axis  \n",
       "6         110     -52  \n",
       "23          9      23  \n",
       "49        -31      51  \n",
       "60         60       7  \n",
       "71         21      -3  \n",
       "83         20      68  \n",
       "132        -2       3  \n",
       "135        36      29  \n",
       "137       -25    -172  \n",
       "176       -39     -16  \n",
       "238         3      51  \n",
       "248       -67     105  \n",
       "273       -19      47  "
      ]
     },
     "execution_count": 15,
     "metadata": {},
     "output_type": "execute_result"
    }
   ],
   "source": [
    "df[df['p_axis'] < 0]"
   ]
  }
 ],
 "metadata": {
  "kernelspec": {
   "display_name": "Python 3",
   "language": "python",
   "name": "python3"
  },
  "language_info": {
   "codemirror_mode": {
    "name": "ipython",
    "version": 3
   },
   "file_extension": ".py",
   "mimetype": "text/x-python",
   "name": "python",
   "nbconvert_exporter": "python",
   "pygments_lexer": "ipython3",
   "version": "3.12.10"
  }
 },
 "nbformat": 4,
 "nbformat_minor": 5
}
